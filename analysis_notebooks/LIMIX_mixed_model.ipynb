{
 "cells": [
  {
   "cell_type": "code",
   "execution_count": 10,
   "metadata": {},
   "outputs": [],
   "source": [
    "from limix.stats import linear_kinship, multivariate_normal\n",
    "from numpy import zeros, eye\n",
    "from numpy import ones, stack\n",
    "from numpy.random import RandomState\n",
    "from pandas import DataFrame\n",
    "from limix.qtl import scan"
   ]
  },
  {
   "cell_type": "code",
   "execution_count": 3,
   "metadata": {},
   "outputs": [
    {
     "name": "stdout",
     "output_type": "stream",
     "text": [
      "           offset   age\n",
      "sample                 \n",
      "sample0 -0.416758  38.0\n",
      "sample1 -0.416758  59.0\n",
      "sample2 -0.416758  34.0\n",
      "sample3 -0.416758  27.0\n",
      "sample4 -0.416758  56.0\n"
     ]
    }
   ],
   "source": [
    "random = RandomState(2)\n",
    "# samples size\n",
    "n = 100\n",
    "# covariates\n",
    "offset = ones(n) * random.randn()\n",
    "age = random.randint(16, 75, n)\n",
    "M = stack((offset, age), axis=1)\n",
    "M = DataFrame(stack([offset, age], axis=1), columns=[\"offset\", \"age\"])\n",
    "M[\"sample\"] = [f\"sample{i}\" for i in range(n)]\n",
    "M = M.set_index(\"sample\")\n",
    "print(M.head())"
   ]
  },
  {
   "cell_type": "code",
   "execution_count": 6,
   "metadata": {},
   "outputs": [],
   "source": [
    "G = random.randn(n, 4)"
   ]
  },
  {
   "cell_type": "code",
   "execution_count": 7,
   "metadata": {},
   "outputs": [],
   "source": [
    "# sampling the phenotype\n",
    "alpha = random.randn(2)\n",
    "beta = random.randn(4)\n",
    "eps = random.randn(n)\n",
    "y = M @ alpha + G @ beta + eps"
   ]
  },
  {
   "cell_type": "code",
   "execution_count": 13,
   "metadata": {},
   "outputs": [
    {
     "name": "stdout",
     "output_type": "stream",
     "text": [
      "<class 'numpy.ndarray'>\n"
     ]
    }
   ],
   "source": [
    "# Whole genotype of each sample.\n",
    "X = random.randn(n, 50)\n",
    "print(type(X))\n",
    "# Estimate a kinship relationship between samples.\n",
    "K = linear_kinship(X, verbose=False) + 1e-9 * eye(n)\n",
    "# Update the phenotype\n",
    "y += multivariate_normal(random, zeros(n), K)"
   ]
  },
  {
   "cell_type": "code",
   "execution_count": 12,
   "metadata": {},
   "outputs": [
    {
     "name": "stdout",
     "output_type": "stream",
     "text": [
      "Hypothesis 0\n",
      "------------\n",
      "\n",
      "𝐲 ~ 𝓝(𝙼𝜶, 1.226⋅𝙺 + 6.642⋅𝙸)\n",
      "\n",
      "M     = ['offset' 'age']\n",
      "𝜶     = [-0.45776409 -0.66305383]\n",
      "se(𝜶) = [1.84714408 0.01580719]\n",
      "lml   = -244.00359493370092\n",
      "\n",
      "Hypothesis 2\n",
      "------------\n",
      "\n",
      "𝐲 ~ 𝓝(𝙼𝜶 + G𝛃, s(1.226⋅𝙺 + 6.642⋅𝙸))\n",
      "\n",
      "          lml       cov. effsizes   cand. effsizes\n",
      "--------------------------------------------------\n",
      "mean   -2.435e+02      -5.761e-01       -3.961e-02\n",
      "std     6.196e-01       1.588e-01        3.206e-01\n",
      "min    -2.440e+02      -1.167e+00       -6.897e-01\n",
      "25%    -2.440e+02      -6.635e-01       -2.405e-01\n",
      "50%    -2.437e+02      -6.622e-01       -8.396e-02\n",
      "75%    -2.434e+02      -4.610e-01        2.160e-01\n",
      "max    -2.414e+02      -1.778e-01        7.842e-01\n",
      "\n",
      "Likelihood-ratio test p-values\n",
      "------------------------------\n",
      "\n",
      "       𝓗₀ vs 𝓗₂ \n",
      "----------------\n",
      "mean   4.753e-01\n",
      "std    2.885e-01\n",
      "min    2.281e-02\n",
      "25%    2.601e-01\n",
      "50%    4.644e-01\n",
      "75%    7.529e-01\n",
      "max    9.904e-01\n"
     ]
    }
   ],
   "source": [
    "r = scan(X, y, \"normal\", K, 𝙼=M, verbose=False)\n",
    "print(r)"
   ]
  },
  {
   "cell_type": "code",
   "execution_count": null,
   "metadata": {},
   "outputs": [],
   "source": []
  }
 ],
 "metadata": {
  "kernelspec": {
   "display_name": "Python [default]",
   "language": "python",
   "name": "python3"
  },
  "language_info": {
   "codemirror_mode": {
    "name": "ipython",
    "version": 3
   },
   "file_extension": ".py",
   "mimetype": "text/x-python",
   "name": "python",
   "nbconvert_exporter": "python",
   "pygments_lexer": "ipython3",
   "version": "3.6.5"
  }
 },
 "nbformat": 4,
 "nbformat_minor": 2
}
